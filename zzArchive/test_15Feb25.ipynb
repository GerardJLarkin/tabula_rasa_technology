{
 "cells": [
  {
   "cell_type": "code",
   "execution_count": 7,
   "metadata": {},
   "outputs": [
    {
     "name": "stdout",
     "output_type": "stream",
     "text": [
      "(720, 1280)\n",
      "uint8\n"
     ]
    }
   ],
   "source": [
    "import numpy as np\n",
    "\n",
    "# Example 3D array of shape (720, 1280, 3) with values in range 0-255\n",
    "np.random.seed(42)\n",
    "arr = np.random.randint(0, 256, (720, 1280, 3), dtype=np.uint8)\n",
    "\n",
    "# Combine values along the last axis into a single integer\n",
    "#flattened_arr = (arr[..., 0] * 1000000) + (arr[..., 1] * 1000) + arr[..., 2]\n",
    "flattened_arr = (arr[..., 0] << 16) | (arr[..., 1] << 8) | arr[..., 2]\n",
    "\n",
    "print(flattened_arr.shape)  # Should be (720, 1280)\n",
    "print(flattened_arr.dtype)  # Check output values\n"
   ]
  },
  {
   "cell_type": "code",
   "execution_count": null,
   "metadata": {},
   "outputs": [],
   "source": []
  }
 ],
 "metadata": {
  "kernelspec": {
   "display_name": "base",
   "language": "python",
   "name": "python3"
  },
  "language_info": {
   "codemirror_mode": {
    "name": "ipython",
    "version": 3
   },
   "file_extension": ".py",
   "mimetype": "text/x-python",
   "name": "python",
   "nbconvert_exporter": "python",
   "pygments_lexer": "ipython3",
   "version": "3.12.9"
  }
 },
 "nbformat": 4,
 "nbformat_minor": 2
}
