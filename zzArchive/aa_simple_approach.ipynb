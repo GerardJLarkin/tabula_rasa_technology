{
 "cells": [
  {
   "cell_type": "code",
   "execution_count": null,
   "metadata": {},
   "outputs": [],
   "source": [
    "## add ignore warnings for now, will remove and debug once full algorithm is complete\n",
    "# import warnings\n",
    "# warnings.filterwarnings(\"ignore\")\n",
    "\n",
    "## import packages/libraries\n",
    "from time import perf_counter, process_time, clock_gettime_ns, CLOCK_REALTIME\n",
    "import numpy as np\n",
    "import pandas as pd\n",
    "from itertools import product\n",
    "from multiprocessing import Pool, cpu_count\n",
    "from PIL import Image\n",
    "import sys\n",
    "import sqlite3\n",
    "import cv2 as cv\n",
    "\n",
    "from cProfile import Profile\n",
    "from pstats import SortKey, Stats\n",
    "import psutil\n",
    "\n",
    "## append filepath to allow files to be called from within project folder\n",
    "sys.path.append('/home/gerard/Desktop/capstone_project/patoms')\n",
    "sys.path.append('/home/gerard/Desktop/capstone_project')\n",
    "\n",
    "## call locally created functions\n",
    "from b_snapshot_2d_pattern_v9 import patoms2d\n",
    "from c_pattern_2d_compare_v9 import pattern_compare_2d\n",
    "\n",
    "from scipy.special import bernoulli, zeta"
   ]
  },
  {
   "cell_type": "code",
   "execution_count": null,
   "metadata": {},
   "outputs": [
    {
     "name": "stderr",
     "output_type": "stream",
     "text": [
      "[ WARN:0@0.870] global cap_gstreamer.cpp:1173 isPipelinePlaying OpenCV | GStreamer warning: GStreamer: pipeline have not been created\n"
     ]
    }
   ],
   "source": [
    "# generate data (string of frames of a simple geometric shape)\n",
    "image_path = 'red_circle.png'\n",
    "\n",
    "image = Image.open(image_path)\n",
    "\n",
    "image_array = np.array(image)[:,:,3]\n",
    "\n",
    "top = 900\n",
    "bottom = 10\n",
    "left = 10\n",
    "right = 900\n",
    "\n",
    "padded_arrays = []\n",
    "for i in range(0, 900, 6):\n",
    "    pad_array = np.pad(image_array, ((top-i, bottom+i), (left+i, right-i)), 'constant', constant_values=(0)) # top, bottom, left, right\n",
    "    padded_arrays.append(pad_array)\n"
   ]
  },
  {
   "cell_type": "code",
   "execution_count": null,
   "metadata": {},
   "outputs": [],
   "source": []
  },
  {
   "cell_type": "code",
   "execution_count": null,
   "metadata": {},
   "outputs": [],
   "source": [
    "source_db = \"inmemory.db\"  # Change this to your actual database file\n",
    "memory_db = sqlite3.connect(\":memory:\")  # Create an in-memory DB"
   ]
  },
  {
   "cell_type": "code",
   "execution_count": 4,
   "metadata": {},
   "outputs": [],
   "source": [
    "# Attach to disk database and copy all data into memory\n",
    "disk_conn = sqlite3.connect(source_db)\n",
    "disk_conn.backup(memory_db)  # Copies entire DB into memory\n",
    "disk_conn.close()  # Close disk connection, work only in memory"
   ]
  },
  {
   "cell_type": "code",
   "execution_count": 5,
   "metadata": {},
   "outputs": [],
   "source": [
    "cursor = memory_db.cursor()"
   ]
  },
  {
   "cell_type": "code",
   "execution_count": 6,
   "metadata": {},
   "outputs": [],
   "source": [
    "# read 2d ref database into memory and convert to ref patoms for comparison\n",
    "working_ref_patoms = []\n",
    "ref_names = [name for (name,) in cursor.execute(\"select name from sqlite_master where type='table' and name like 'ref%';\").fetchall()][:20]\n",
    "for i in ref_names:\n",
    "    table = cursor.execute(f\"select * from {i};\").fetchall()\n",
    "    table_rows = []\n",
    "    for row in table:\n",
    "        table_row = [np.frombuffer(elem, dtype=np.float32) for elem in row]\n",
    "        table_rows.append(table_row)\n",
    "    table_array = np.array(table_rows)[:,:,-1]\n",
    "    working_ref_patoms.append(table_array)\n",
    "\n",
    "ref_patoms_array = np.vstack(working_ref_patoms).astype('float32')\n",
    "ref_indices = np.unique(ref_patoms_array[:,7],axis=0)\n"
   ]
  },
  {
   "cell_type": "code",
   "execution_count": 7,
   "metadata": {},
   "outputs": [],
   "source": [
    "# Function to measure total CPU time of all processes\n",
    "def get_total_cpu_time():\n",
    "    process = psutil.Process()  # Get the main process\n",
    "    total_time = process.cpu_times().user  # Get CPU time of main process\n",
    "    for child in process.children(recursive=True):  # Add child process CPU time\n",
    "        total_time += child.cpu_times().user\n",
    "    return total_time"
   ]
  },
  {
   "cell_type": "code",
   "execution_count": null,
   "metadata": {},
   "outputs": [
    {
     "name": "stdout",
     "output_type": "stream",
     "text": [
      "Real Time to get 2D patterns with multiprocessing (secs): 2.704749960999834\n",
      "CPU Time to get 2D patterns with multiprocessing (secs): 2.710324203\n",
      "108\n"
     ]
    }
   ],
   "source": [
    "with Profile() as profile:\n",
    "    start_perf = perf_counter()\n",
    "    start_cpu = get_total_cpu_time()\n",
    "    s = perf_counter(), process_time()\n",
    "    val = 0\n",
    "    while val < 1:\n",
    "        # frame = np.random.randint(0, 256, (480, 640), dtype=np.uint8) # 307200 bytes\n",
    "        # print(frame.nbytes)\n",
    "        ret, frame = cap.read()\n",
    "        frame = (frame[..., 0] << 16) | (frame[..., 1] << 8) | frame[..., 2]\n",
    "        # print(frame.nbytes)\n",
    "        frame = (frame - frame.min()) / (frame.max() - frame.min())\n",
    "        x_len = frame.shape[0]\n",
    "        y_len = frame.shape[1]\n",
    "        ####################### FIRST TASK: FIND PATTERNS IN FRAME ######################\n",
    "        frame_patoms = patoms2d(x_len, y_len, frame, val)\n",
    "        # output: [colour, norm_x, norm_y, pattern_centroid_x, pattern_centroid_y, quad, quad_cnt, frame_ind_arr]\n",
    "        #frame_patoms_arr = np.vstack((frame_patoms))\n",
    "        num_patoms = len(frame_patoms)\n",
    "        print(num_patoms)\n",
    "        ############## SECOND TASK: COMPARE NEW PATOMS AGAINST REF PATOMS ###############\n",
    "        atime = perf_counter(), process_time()\n",
    "        start_cpu = get_total_cpu_time()\n",
    "        with Pool(processes=8) as pool:\n",
    "            indices = list(product(range(num_patoms), range(len(working_ref_patoms))))\n",
    "            items = [(frame_patoms[i[0]], working_ref_patoms[i[1]]) for i in indices]\n",
    "            comp_results = pool.starmap(pattern_compare_2d, items) #e.g. ['pcol','px','py','pxc','pyc','pq','pqlen','pfind','xc_d','yc_d','x_d','y_d','rfind','similar']\n",
    "            end_cpu = get_total_cpu_time()\n",
    "            print(\"Real Time to compare 2D patterns with multiprocessing (secs):\", (perf_counter()-atime[0]))\n",
    "            print(\"CPU Time to compare 2D patterns with multiprocessing (secs):\", (process_time()-atime[1]))\n",
    "            print(f\"Total CPU Time (all processes): {end_cpu - start_cpu:.8f} sec\")\n",
    "            # loop through the output of the comparison function\n",
    "            witime = perf_counter(), process_time()\n",
    "            # for ix, i in enumerate(comp_results):\n",
    "            #     table_data = np.unique(i[:,:-2], axis=0)\n",
    "            #     #print(table_data)\n",
    "            #     existing_tables = [names for (names,) in cursor.execute(\"select name from sqlite_master where type='table' and name not like 'ref%';\").fetchall()]\n",
    "            #     next_table_num = int(existing_tables.pop(-1)[-6:]) + 1 \n",
    "            #     next_table_num = str(next_table_num).zfill(6)\n",
    "            #     ref_patom_ind = i[:,12].astype('int32')\n",
    "            #     ref_patom_ind = np.unique(ref_patom_ind).tolist() # contains list of all ref patoms used in comparison\n",
    "            #     #extract reference tables that are similar to the patom in the current iteration\n",
    "            #     match_patoms = i[i[:,13].min() >= 0.8]\n",
    "                #print(match_patoms)\n",
    "            #     if match_patoms.shape[0] > 0:\n",
    "            #         for k in ref_patom_ind:\n",
    "            #             table_num = ref_names[k][-6:]\n",
    "            #             cursor.executemany(f\"INSERT INTO nonref_{table_num}(colour, x_pos_dist, y_pos_dist, x_cent, y_cent, quad, quad_cnt, frame_ind, \\\n",
    "            #                                 xc_d, yc_d, x_d, y_d) VALUES (?,?,?,?,?,?,?,?,?,?,?,?)\", table_data)\n",
    "            #     # if no matching ref patoms, write new patom to new table\n",
    "            #     else:\n",
    "            #         cursor.execute(f\"CREATE TABLE nonref_{next_table_num}(colour, x_pos_dist, y_pos_dist, x_cent, y_cent, quad, quad_cnt, frame_ind, \\\n",
    "            #                     xc_d, yc_d, x_d, y_d);\")\n",
    "            #         cursor.executemany(f\"INSERT INTO nonref_{next_table_num}(colour, x_pos_dist, y_pos_dist, x_cent, y_cent, quad, quad_cnt, frame_ind, \\\n",
    "            #                         xc_d, yc_d, x_d, y_d) VALUES (?,?,?,?,?,?,?,?,?,?,?,?)\", table_data) \n",
    "            #         cursor.execute(f\"CREATE TABLE ref_{next_table_num}(colour, x_pos_dist, y_pos_dist, x_cent, y_cent, quad, quad_cnt, frame_ind, \\\n",
    "            #                     xc_d, yc_d, x_d, y_d);\")\n",
    "            #         cursor.executemany(f\"INSERT INTO ref_{next_table_num}(colour, x_pos_dist, y_pos_dist, x_cent, y_cent, quad, quad_cnt, frame_ind, \\\n",
    "            #                         xc_d, yc_d, x_d, y_d) VALUES (?,?,?,?,?,?,?,?,?,?,?,?)\", table_data)     \n",
    "                \n",
    "            # memory_db.commit() # have to include this commit newly created tables but this is a massive bottleneck - maybe create database in memory?    \n",
    "            ## major bottleneck is the insert/create steps\n",
    "            print(\"Real Time to write/insert patoms to existing/new tables in database (secs):\", (perf_counter()-witime[0]))\n",
    "            print(\"CPU Time to write/insert patoms to existing/new tables in database (secs):\", (process_time()-witime[1]))\n",
    "        val += 1\n",
    "    \n",
    "    \n",
    "    print(\"Real Time to process 1 second of data against 10 reference patoms(secs):\", (perf_counter()-s[0]))\n",
    "    print(\"CPU Time to process 1 second of data against 10 reference patoms(secs):\", (process_time()-s[1]))\n",
    "    #print(\"Time to get patoms from 1 seconds of data (mins):\", (perf_counter()-s)/60)\n",
    "\n",
    "    end_perf = perf_counter()\n",
    "    end_cpu = get_total_cpu_time()\n",
    "\n",
    "    print(f\"\\nTotal Elapsed Time (perf_counter): {end_perf - start_perf:.2f} sec\")\n",
    "    print(f\"Total CPU Time (all processes): {end_cpu - start_cpu:.2f} sec\")\n",
    "\n",
    "    (\n",
    "        Stats(profile)\n",
    "        .strip_dirs()\n",
    "        .sort_stats(SortKey.CUMULATIVE)\n",
    "        .print_stats()\n",
    "    )"
   ]
  },
  {
   "cell_type": "code",
   "execution_count": null,
   "metadata": {},
   "outputs": [],
   "source": []
  },
  {
   "cell_type": "code",
   "execution_count": null,
   "metadata": {},
   "outputs": [
    {
     "name": "stdout",
     "output_type": "stream",
     "text": [
      "7936\n",
      "7936\n"
     ]
    }
   ],
   "source": [
    "########################################################################################################\n",
    "############## next steps is reconcile ref patoms and put time order on patom sequence #################\n",
    "########################################################################################################\n",
    "\n",
    "# fileds in tables: (colour, x_pos_dist, y_pos_dist, x_cent, y_cent, quad, quad_cnt, frame_ind, xc_d, yc_d, x_d, y_d)\n",
    "patom_sequences = [[] for _ in range(900)]\n",
    "table_data = []\n",
    "nonref_names = [name for (name,) in cursor.execute(\"select name from sqlite_master where type='table' and name not like 'ref%';\").fetchall()]; print(len(nonref_names))\n",
    "ref_names = [name for (name,) in cursor.execute(\"select name from sqlite_master where type='table' and name like 'ref%';\").fetchall()]; print(len(ref_names))\n",
    "for name in nonref_names:\n",
    "    row = cursor.execute(f\"select \\\n",
    "                               colour, x_pos_dist, y_pos_dist, x_cent, y_cent, segment, segment_cnt, sequence_ind, col_d, xc_d, yc_d, x_d, y_d \\\n",
    "                               from {name} order by segment, x_pos_dist, y_pos_dist;\").fetchall()\n",
    "    table_data.append(row)\n",
    "    # seq_ind = cursor.execute(f\"select cast(avg(frame_ind) as integer) as seq_ind, min(frame_ind) as min_seq_ind, max(frame_ind) as max_seq_ind from {name};\").fetchall()\n",
    "    # print(seq_ind)\n",
    "        # patom_sequences[seq_ind].append(name[3:])\n"
   ]
  },
  {
   "cell_type": "code",
   "execution_count": null,
   "metadata": {},
   "outputs": [
    {
     "name": "stdout",
     "output_type": "stream",
     "text": [
      "(0.0, -1.0, 0.8360128402709961, 0.1841689646244049, 0.08407414704561234, 0.0, 48.0, 48.0, 0.0, 0.0, 0.0, 0.0, 0.0)\n",
      "(0.0, -0.9463087320327759, -0.9003215432167053, 0.1841689646244049, 0.08407414704561234, 0.0, 48.0, 48.0, 0.0, 0.0, 0.0, 0.0, 0.0)\n",
      "(0.0, -0.9194630980491638, -1.0, 0.1841689646244049, 0.08407414704561234, 0.0, 48.0, 48.0, 0.0, 0.0, 0.0, 0.0, 0.0)\n",
      "(0.0, -0.7852349281311035, -0.022508038207888603, 0.1841689646244049, 0.08407414704561234, 0.0, 48.0, 48.0, 0.0, 0.0, 0.0, 0.0, 0.0)\n",
      "(0.0, -0.753915011882782, -0.8167202472686768, 0.1841689646244049, 0.08407414704561234, 0.0, 48.0, 48.0, 0.0, 0.0, 0.0, 0.0, 0.0)\n",
      "(0.0, -0.6689038276672363, -0.03215434029698372, 0.1841689646244049, 0.08407414704561234, 0.0, 48.0, 48.0, 0.0, 0.0, 0.0, 0.0, 0.0)\n",
      "(0.0, -0.5436241626739502, -0.9774919748306274, 0.1841689646244049, 0.08407414704561234, 0.0, 48.0, 48.0, 0.0, 0.0, 0.0, 0.0, 0.0)\n",
      "(0.0, -0.5391498804092407, -0.9774919748306274, 0.1841689646244049, 0.08407414704561234, 0.0, 48.0, 48.0, 0.0, 0.0, 0.0, 0.0, 0.0)\n",
      "(0.0, -0.463087260723114, -0.08038584887981415, 0.1841689646244049, 0.08407414704561234, 0.0, 48.0, 48.0, 0.0, 0.0, 0.0, 0.0, 0.0)\n",
      "(0.0, -0.3333333432674408, 0.881028950214386, 0.1841689646244049, 0.08407414704561234, 0.0, 48.0, 48.0, 0.0, 0.0, 0.0, 0.0, 0.0)\n",
      "(0.0, -0.3288590610027313, 0.8842443823814392, 0.1841689646244049, 0.08407414704561234, 0.0, 48.0, 48.0, 0.0, 0.0, 0.0, 0.0, 0.0)\n",
      "(0.0, -0.3109619617462158, 0.2765273451805115, 0.1841689646244049, 0.08407414704561234, 0.0, 48.0, 48.0, 0.0, 0.0, 0.0, 0.0, 0.0)\n",
      "(0.0, -0.30648770928382874, 0.2765273451805115, 0.1841689646244049, 0.08407414704561234, 0.0, 48.0, 48.0, 0.0, 0.0, 0.0, 0.0, 0.0)\n",
      "(0.0, -0.23489932715892792, 0.7717041969299316, 0.1841689646244049, 0.08407414704561234, 0.0, 48.0, 48.0, 0.0, 0.0, 0.0, 0.0, 0.0)\n",
      "(0.0, -0.23042505979537964, 0.7749196290969849, 0.1841689646244049, 0.08407414704561234, 0.0, 48.0, 48.0, 0.0, 0.0, 0.0, 0.0, 0.0)\n",
      "(0.0, -0.13199105858802795, -0.1607716977596283, 0.1841689646244049, 0.08407414704561234, 0.0, 48.0, 48.0, 0.0, 0.0, 0.0, 0.0, 0.0)\n",
      "(0.0, -0.13199105858802795, 0.6302250623703003, 0.1841689646244049, 0.08407414704561234, 0.0, 48.0, 48.0, 0.0, 0.0, 0.0, 0.0, 0.0)\n",
      "(0.0, -0.13199105858802795, 0.6334404945373535, 0.1841689646244049, 0.08407414704561234, 0.0, 48.0, 48.0, 0.0, 0.0, 0.0, 0.0, 0.0)\n",
      "(0.0, -0.12751677632331848, -0.15755626559257507, 0.1841689646244049, 0.08407414704561234, 0.0, 48.0, 48.0, 0.0, 0.0, 0.0, 0.0, 0.0)\n",
      "(0.0, -0.0469798669219017, -0.7202572226524353, 0.1841689646244049, 0.08407414704561234, 0.0, 48.0, 48.0, 0.0, 0.0, 0.0, 0.0, 0.0)\n",
      "(0.0, -0.033557046204805374, -0.13504822552204132, 0.1841689646244049, 0.08407414704561234, 0.0, 48.0, 48.0, 0.0, 0.0, 0.0, 0.0, 0.0)\n",
      "(0.0, 0.02460850030183792, -0.3279742896556854, 0.1841689646244049, 0.08407414704561234, 0.0, 48.0, 48.0, 0.0, 0.0, 0.0, 0.0, 0.0)\n",
      "(0.0, 0.05145413801074028, -0.05144694447517395, 0.1841689646244049, 0.08407414704561234, 0.0, 48.0, 48.0, 0.0, 0.0, 0.0, 0.0, 0.0)\n",
      "(0.0, 0.09619686752557755, -0.15112540125846863, 0.1841689646244049, 0.08407414704561234, 0.0, 48.0, 48.0, 0.0, 0.0, 0.0, 0.0, 0.0)\n",
      "(0.0, 0.28411632776260376, 0.0, 0.1841689646244049, 0.08407414704561234, 0.0, 48.0, 48.0, 0.0, 0.0, 0.0, 0.0, 0.0)\n",
      "(0.0, 0.28859061002731323, 0.0, 0.1841689646244049, 0.08407414704561234, 0.0, 48.0, 48.0, 0.0, 0.0, 0.0, 0.0, 0.0)\n",
      "(0.0, 0.32438477873802185, 0.03215434029698372, 0.1841689646244049, 0.08407414704561234, 0.0, 48.0, 48.0, 0.0, 0.0, 0.0, 0.0, 0.0)\n",
      "(0.0, 0.4049217104911804, -0.5884244441986084, 0.1841689646244049, 0.08407414704561234, 0.0, 48.0, 48.0, 0.0, 0.0, 0.0, 0.0, 0.0)\n",
      "(0.0, 0.463087260723114, -0.08681672066450119, 0.1841689646244049, 0.08407414704561234, 0.0, 48.0, 48.0, 0.0, 0.0, 0.0, 0.0, 0.0)\n",
      "(0.0, 0.4675615131855011, -0.6077170372009277, 0.1841689646244049, 0.08407414704561234, 0.0, 48.0, 48.0, 0.0, 0.0, 0.0, 0.0, 0.0)\n",
      "(0.0, 0.4675615131855011, -0.3858520984649658, 0.1841689646244049, 0.08407414704561234, 0.0, 48.0, 48.0, 0.0, 0.0, 0.0, 0.0, 0.0)\n",
      "(0.0, 0.4675615131855011, -0.08360128849744797, 0.1841689646244049, 0.08407414704561234, 0.0, 48.0, 48.0, 0.0, 0.0, 0.0, 0.0, 0.0)\n",
      "(0.0, 0.5167785286903381, 0.31511253118515015, 0.1841689646244049, 0.08407414704561234, 0.0, 48.0, 48.0, 0.0, 0.0, 0.0, 0.0, 0.0)\n",
      "(0.0, 0.5212528109550476, 0.31511253118515015, 0.1841689646244049, 0.08407414704561234, 0.0, 48.0, 48.0, 0.0, 0.0, 0.0, 0.0, 0.0)\n",
      "(0.0, 0.5212528109550476, 0.4437299072742462, 0.1841689646244049, 0.08407414704561234, 0.0, 48.0, 48.0, 0.0, 0.0, 0.0, 0.0, 0.0)\n",
      "(0.0, 0.5704697966575623, -0.05144694447517395, 0.1841689646244049, 0.08407414704561234, 0.0, 48.0, 48.0, 0.0, 0.0, 0.0, 0.0, 0.0)\n",
      "(0.0, 0.6331096291542053, 0.1318327933549881, 0.1841689646244049, 0.08407414704561234, 0.0, 48.0, 48.0, 0.0, 0.0, 0.0, 0.0, 0.0)\n",
      "(0.0, 0.6868008971214294, 0.31511253118515015, 0.1841689646244049, 0.08407414704561234, 0.0, 48.0, 48.0, 0.0, 0.0, 0.0, 0.0, 0.0)\n",
      "(0.0, 0.709172248840332, 0.08360128849744797, 0.1841689646244049, 0.08407414704561234, 0.0, 48.0, 48.0, 0.0, 0.0, 0.0, 0.0, 0.0)\n",
      "(0.0, 0.709172248840332, 0.08681672066450119, 0.1841689646244049, 0.08407414704561234, 0.0, 48.0, 48.0, 0.0, 0.0, 0.0, 0.0, 0.0)\n",
      "(0.0, 0.7494407296180725, 0.01929260417819023, 0.1841689646244049, 0.08407414704561234, 0.0, 48.0, 48.0, 0.0, 0.0, 0.0, 0.0, 0.0)\n",
      "(0.0, 0.8389261960983276, 0.022508038207888603, 0.1841689646244049, 0.08407414704561234, 0.0, 48.0, 48.0, 0.0, 0.0, 0.0, 0.0, 0.0)\n",
      "(0.0, 0.8389261960983276, 0.025723472237586975, 0.1841689646244049, 0.08407414704561234, 0.0, 48.0, 48.0, 0.0, 0.0, 0.0, 0.0, 0.0)\n",
      "(0.0, 0.8612975478172302, -0.05144694447517395, 0.1841689646244049, 0.08407414704561234, 0.0, 48.0, 48.0, 0.0, 0.0, 0.0, 0.0, 0.0)\n",
      "(0.0, 0.8657718300819397, 0.909967839717865, 0.1841689646244049, 0.08407414704561234, 0.0, 48.0, 48.0, 0.0, 0.0, 0.0, 0.0, 0.0)\n",
      "(0.0, 0.9239373803138733, -0.5112540125846863, 0.1841689646244049, 0.08407414704561234, 0.0, 48.0, 48.0, 0.0, 0.0, 0.0, 0.0, 0.0)\n",
      "(0.0, 0.9284116625785828, -0.5080385804176331, 0.1841689646244049, 0.08407414704561234, 0.0, 48.0, 48.0, 0.0, 0.0, 0.0, 0.0, 0.0)\n",
      "(0.0, 1.0, 0.006430868059396744, 0.1841689646244049, 0.08407414704561234, 0.0, 48.0, 48.0, 0.0, 0.0, 0.0, 0.0, 0.0)\n",
      "(0.0, 0.9731543660163879, 0.3408360183238983, 0.1841689646244049, 0.08407414704561234, 1.0, 1.0, 48.0, 0.0, 0.0, 0.0, 0.0, 0.0)\n",
      "(0.0, 0.744966447353363, 0.6913183331489563, 0.1841689646244049, 0.08407414704561234, 2.0, 2.0, 48.0, 0.0, 0.0, 0.0, 0.0, 0.0)\n",
      "(0.0, 0.744966447353363, 0.6945337653160095, 0.1841689646244049, 0.08407414704561234, 2.0, 2.0, 48.0, 0.0, 0.0, 0.0, 0.0, 0.0)\n",
      "(0.0, 0.20357941091060638, 0.971061110496521, 0.1841689646244049, 0.08407414704561234, 4.0, 6.0, 48.0, 0.0, 0.0, 0.0, 0.0, 0.0)\n",
      "(0.0, 0.20805369317531586, 0.971061110496521, 0.1841689646244049, 0.08407414704561234, 4.0, 6.0, 48.0, 0.0, 0.0, 0.0, 0.0, 0.0)\n",
      "(0.0, 0.21252796053886414, 0.9967845678329468, 0.1841689646244049, 0.08407414704561234, 4.0, 6.0, 48.0, 0.0, 0.0, 0.0, 0.0, 0.0)\n",
      "(0.0, 0.21252796053886414, 1.0, 0.1841689646244049, 0.08407414704561234, 4.0, 6.0, 48.0, 0.0, 0.0, 0.0, 0.0, 0.0)\n",
      "(0.0, 0.28411632776260376, 0.9903537034988403, 0.1841689646244049, 0.08407414704561234, 4.0, 6.0, 48.0, 0.0, 0.0, 0.0, 0.0, 0.0)\n",
      "(0.0, 0.28859061002731323, 0.9903537034988403, 0.1841689646244049, 0.08407414704561234, 4.0, 6.0, 48.0, 0.0, 0.0, 0.0, 0.0, 0.0)\n",
      "(0.0, -0.8791946172714233, 0.4823151230812073, 0.1841689646244049, 0.08407414704561234, 7.0, 4.0, 48.0, 0.0, 0.0, 0.0, 0.0, 0.0)\n",
      "(0.0, -0.8791946172714233, 0.6302250623703003, 0.1841689646244049, 0.08407414704561234, 7.0, 4.0, 48.0, 0.0, 0.0, 0.0, 0.0, 0.0)\n",
      "(0.0, -0.8747203350067139, 0.6334404945373535, 0.1841689646244049, 0.08407414704561234, 7.0, 4.0, 48.0, 0.0, 0.0, 0.0, 0.0, 0.0)\n",
      "(0.0, -0.7673377990722656, 0.5852090120315552, 0.1841689646244049, 0.08407414704561234, 7.0, 4.0, 48.0, 0.0, 0.0, 0.0, 0.0, 0.0)\n",
      "(0.0, 0.6017897129058838, -0.8553054928779602, 0.1841689646244049, 0.08407414704561234, 14.0, 2.0, 48.0, 0.0, 0.0, 0.0, 0.0, 0.0)\n",
      "(0.0, 0.6062639951705933, -0.8553054928779602, 0.1841689646244049, 0.08407414704561234, 14.0, 2.0, 48.0, 0.0, 0.0, 0.0, 0.0, 0.0)\n",
      "(0.0, 0.8255033493041992, -0.553054690361023, 0.1841689646244049, 0.08407414704561234, 15.0, 2.0, 48.0, 0.0, 0.0, 0.0, 0.0, 0.0)\n",
      "(0.0, 0.8299776315689087, -0.553054690361023, 0.1841689646244049, 0.08407414704561234, 15.0, 2.0, 48.0, 0.0, 0.0, 0.0, 0.0, 0.0)\n",
      "(0.0, 0.964205801486969, -0.22829581797122955, 0.1841689646244049, 0.08407414704561234, 16.0, 3.0, 48.0, 0.0, 0.0, 0.0, 0.0, 0.0)\n",
      "(0.0, 0.9865771532058716, -0.2508038580417633, 0.1841689646244049, 0.08407414704561234, 16.0, 3.0, 48.0, 0.0, 0.0, 0.0, 0.0, 0.0)\n",
      "(0.0, 0.991051435470581, -0.2508038580417633, 0.1841689646244049, 0.08407414704561234, 16.0, 3.0, 48.0, 0.0, 0.0, 0.0, 0.0, 0.0)\n"
     ]
    }
   ],
   "source": [
    "for x in table_data[0]:\n",
    "    print(x)"
   ]
  },
  {
   "cell_type": "code",
   "execution_count": null,
   "metadata": {},
   "outputs": [],
   "source": [
    "# memory_db.commit()\n",
    "\n",
    "# # 5️⃣ Write the in-memory database back to a file\n",
    "# dest_db = \"my_new_database.db\"  # New file to save changes\n",
    "# new_disk_conn = sqlite3.connect(dest_db)\n",
    "# memory_db.backup(new_disk_conn)  # Save in-memory DB to file\n",
    "# new_disk_conn.close()\n",
    "\n",
    "# # ✅ Done! You now have `my_new_database.db` with the new tables & data.\n",
    "# memory_db.close()"
   ]
  }
 ],
 "metadata": {
  "kernelspec": {
   "display_name": "base",
   "language": "python",
   "name": "python3"
  },
  "language_info": {
   "codemirror_mode": {
    "name": "ipython",
    "version": 3
   },
   "file_extension": ".py",
   "mimetype": "text/x-python",
   "name": "python",
   "nbconvert_exporter": "python",
   "pygments_lexer": "ipython3",
   "version": "3.12.9"
  }
 },
 "nbformat": 4,
 "nbformat_minor": 2
}
