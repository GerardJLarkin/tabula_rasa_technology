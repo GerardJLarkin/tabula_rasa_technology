{
 "cells": [
  {
   "cell_type": "code",
   "execution_count": 2,
   "metadata": {},
   "outputs": [],
   "source": [
    "## add ignore warnings for now, will remove and debug once full algorithm is complete\n",
    "import warnings\n",
    "warnings.filterwarnings(\"ignore\")\n",
    "\n",
    "## import packages/libraries\n",
    "from time import perf_counter, clock_gettime_ns, CLOCK_REALTIME\n",
    "import numpy as np\n",
    "from multiprocessing import Pool, cpu_count\n",
    "from itertools import product\n",
    "import sys\n",
    "import sqlite3\n",
    "\n",
    "## append filepath to allow files to be called from within project folder\n",
    "sys.path.append('/home/gerard/Desktop/capstone_project/patoms')\n",
    "sys.path.append('/home/gerard/Desktop/capstone_project')\n",
    "\n",
    "## call locally created functions\n",
    "from snapshot_2d_pattern_v7 import patoms2d\n",
    "from snapshot_3d_pattern_v6 import patoms3d\n",
    "from pattern_2d_compare_v4 import pattern_compare_2d\n",
    "from pattern_3d_compare_v4 import pattern_compare_3d\n",
    "from get_2d_table_names_v0 import table_names_2d\n",
    "from updating_ref_table_v0 import update_ref_table\n",
    "from patom_to_table_v0 import patom_to_table_func"
   ]
  },
  {
   "cell_type": "code",
   "execution_count": 3,
   "metadata": {},
   "outputs": [],
   "source": [
    "## create in memory 2d database\n",
    "con2d = sqlite3.connect(\":memory:\")\n",
    "cur2d = con2d.cursor()\n",
    "cur2d.execute('create table pat_2d_000000(x_pos_dist, y_pos_dist, x_cent, y_cent, patom_ind, frame_ind, patom_time);')\n",
    "con2d.commit()"
   ]
  },
  {
   "cell_type": "code",
   "execution_count": 4,
   "metadata": {},
   "outputs": [],
   "source": [
    "## read 2d ref database into memory and convert to ref patoms for comparison\n",
    "working_ref_patoms = []\n",
    "with open('/home/gerard/Desktop/capstone_project/ref2d_v2.db', 'rb') as f:\n",
    "    con2dref = sqlite3.connect(\":memory:\")\n",
    "    con2dref.deserialize(f.read())\n",
    "    cur2dref = con2dref.cursor()\n",
    "    ref_names = [name for (name,) in cur2dref.execute(\"select name from sqlite_master where type='table';\").fetchall()]\n",
    "    for i in ref_names:\n",
    "        table = cur2dref.execute(f\"select * from {i};\").fetchall()\n",
    "        # patom = [norm_x, norm_y, pattern_centroid_x, pattern_centroid_y, patom_ind, frame_ind, patom_time]\n",
    "        table_array = np.array(table)\n",
    "        # norm_x = np.array([x[0] for x in table]); norm_y = np.array([x[1] for x in table])\n",
    "        # pattern_centroid_x = np.array([x[2] for x in table]); pattern_centroid_y = np.array([x[3] for x in table])\n",
    "        # patom_ind = [x[4] for x in table]; frame_ind = [x[5] for x in table]; patom_time = [x[6] for x in table]\n",
    "\n",
    "        working_ref_patoms.append(table_array)\n",
    "ref_patoms_array = np.vstack(working_ref_patoms[:5000])"
   ]
  },
  {
   "cell_type": "code",
   "execution_count": 5,
   "metadata": {},
   "outputs": [
    {
     "name": "stdout",
     "output_type": "stream",
     "text": [
      "Time to get 2D patterns with multiprocessing (secs): 0.35846385799959535\n"
     ]
    }
   ],
   "source": [
    "val = 0\n",
    "while val == 0:\n",
    "    rand_array = np.random.random((1, 720, 1280))\n",
    "    y_len = rand_array.shape[1]\n",
    "    x_len = rand_array.shape[2]\n",
    "    # ingest data frame by frame\n",
    "    for frame in range(rand_array.shape[0]):\n",
    "        #################################################################################\n",
    "        ####################### FIRST TASK: FIND PATTERNS IN FRAME ######################\n",
    "        #################################################################################\n",
    "        frame_patoms = patoms2d(x_len, y_len, rand_array[frame,:,:], frame)\n",
    "        # patom = [[norm_x, norm_y], [pattern_centroid_x, pattern_centroid_y], patom_ind, frame_ind, patom_time]\n",
    "        # patom[i][[0][0]: list of x_pos, patom[i][[0][1]: list of y_pos, patom[i][[1][0]: x_cent, patom[i][[1][1]: y_cent, patom[i][[2]: patom_ind, patom[i][[3]: frame_ind, patom[i][[4]: patom_time,\n",
    "        # num_patoms = len(frame_patoms)\n",
    "        val += 1\n",
    "        # ###########################################################################\n",
    "        # ########## SECOND TASK: COMPARE NEW PATOMS AGAINST REF PATOMS #############\n",
    "        # ###########################################################################\n",
    "        # atime = perf_counter()\n",
    "        # comp_indexes = list(product(range(num_patoms), range(len(working_ref_patoms[:100])))) ## this is the MAJOR limiting factor at the moment\n",
    "        # with Pool(processes=cpu_count()) as pool:\n",
    "        #     items = [(frame_patoms[i[0]][0], frame_patoms[i[0]][1], frame_patoms[i[0]][2], frame_patoms[i[0]][3],\\\n",
    "        #             working_ref_patoms[i[1]][0], working_ref_patoms[i[1]][1], working_ref_patoms[i[1]][2], working_ref_patoms[i[1]][3], i) for i in comp_indexes]\n",
    "        #     ## function outputs ind value of the patom_indexes list, the centroid and distance similarity measures\n",
    "        #     ########################################################################################################\n",
    "        #     ########################################################################################################\n",
    "        #     ###### ATTEMPT TO CONVERT ALL REF TABLES INTO SINGLE NUMPY ARRAY TO COMPAR AGAINST NEW PATTERNS ########\n",
    "        #     ########################################################################################################\n",
    "        #     ########################################################################################################\n",
    "        #     comp_results = pool.starmap(pattern_compare_2d, items)\n",
    "        #     comp_results = [x for x in comp_results if x is not None]\n",
    "        #     print(\"Time to compare 2D patterns with multiprocessing (secs):\", (perf_counter()-atime))\n",
    "        #     # res output: [(i, j)]\n",
    "        #     # get the remaining new patoms that were not flagged as being similar to previous patterns\n",
    "        #     remaining_comp_indexes = list(set([x[0] for x in comp_indexes if x not in comp_results]))\n",
    "        #     ## loop through the output of the comparison function\n",
    "        #     if comp_results:\n",
    "        #         for ix, i in enumerate(comp_results):\n",
    "        #             print('similar')\n",
    "        #             # get max table number from 2d database\n",
    "        #             mttime = perf_counter()\n",
    "        #             next_table_num = int([table for (table,) in cur2d.execute(\"SELECT name FROM sqlite_master WHERE type='table';\").fetchall()].pop(-1)[-6:]) + 1 \n",
    "        #             print('time to get max table:',perf_counter()-mttime)\n",
    "        #             next_table_num = str(next_table_num).zfill(6)\n",
    "        #             # check if table exists, if so, add patom, if not create table and add patom\n",
    "        #             ref_table_num = ref_names[i[1]][-6:] # check this is correct\n",
    "        #             new_patom = frame_patoms[i[0]] # check this is correct\n",
    "        #             ptttime = perf_counter()\n",
    "        #             patom_to_table = patom_to_table_func(new_patom)\n",
    "        #             print('time to convert patom to table:',perf_counter()-ptttime)\n",
    "        #             # add patom to relevant pattern table get name of ref table to get data table name\n",
    "        #             if f\"pat_2d_{ref_table_num}\" in [names for (names,) in cur2d.execute(\"select name from sqlite_master where type='table';\").fetchall()]:\n",
    "        #                 cur2d.executemany(f\"INSERT INTO pat_2d_{ref_table_num}(x_pos_dist, y_pos_dist, x_cent, y_cent, patom_ind, frame_ind, patom_time) VALUES (?,?,?,?,?,?,?)\", patom_to_table)\n",
    "        #                 con2d.commit()\n",
    "        #                 # patom = [norm_x, norm_y, pattern_centroid_x, pattern_centroid_y, patom_ind, frame_ind, patom_time]\n",
    "        #             else:\n",
    "        #                 cur2d.execute(f\"CREATE TABLE pat_2d_{ref_table_num}(x_pos_dist, y_pos_dist, x_cent, y_cent, patom_ind, frame_ind, patom_time);\")\n",
    "        #                 cur2d.executemany(f\"INSERT INTO pat_2d_{ref_table_num}(x_pos_dist, y_pos_dist, x_cent, y_cent, patom_ind, frame_ind, patom_time) VALUES (?,?,?,?,?,?,?)\", patom_to_table)\n",
    "        #                 con2d.commit()\n",
    "        #     else:\n",
    "        #         for i in remaining_comp_indexes:\n",
    "        #             mttime = perf_counter()\n",
    "        #             next_table_num = int([table for (table,) in cur2d.execute(\"SELECT name FROM sqlite_master WHERE type='table';\").fetchall()].pop(-1)[-6:]) + 1 \n",
    "        #             print('time to get max table:',perf_counter()-mttime)\n",
    "        #             next_table_num = str(next_table_num).zfill(6)\n",
    "        #             new_patom = frame_patoms[i] # check this is correct\n",
    "        #             ptttime = perf_counter()\n",
    "        #             patom_to_table = patom_to_table_func(new_patom)\n",
    "        #             print('time to convert patom to table:',perf_counter()-ptttime)\n",
    "        #             # if patom is not matched then create new pattern & ref tables, get max table name and then create next new one\n",
    "        #             cur2d.execute(f\"CREATE TABLE pat_2d_{next_table_num}(x_pos_dist, y_pos_dist, x_cent, y_cent, patom_ind, frame_ind, patom_time);\")\n",
    "        #             cur2d.executemany(f\"INSERT INTO pat_2d_{next_table_num}(x_pos_dist, y_pos_dist, x_cent, y_cent, patom_ind, frame_ind, patom_time) VALUES (?,?,?,?,?,?,?)\", patom_to_table)\n",
    "        #             con2d.commit()\n"
   ]
  },
  {
   "cell_type": "code",
   "execution_count": 6,
   "metadata": {},
   "outputs": [
    {
     "data": {
      "text/plain": [
       "(59, 8)"
      ]
     },
     "execution_count": 6,
     "metadata": {},
     "output_type": "execute_result"
    }
   ],
   "source": [
    "working_ref_patoms[0].shape"
   ]
  },
  {
   "cell_type": "code",
   "execution_count": 7,
   "metadata": {},
   "outputs": [],
   "source": [
    "def cross_join(arr1, arr2):\n",
    "    # Get the number of rows in each array\n",
    "    n_rows1 = arr1.shape[0]\n",
    "    n_rows2 = arr2.shape[0]\n",
    "\n",
    "    # Repeat each row of arr1 n_rows2 times\n",
    "    repeated_arr1 = np.repeat(arr1, n_rows2, axis=0)\n",
    "\n",
    "    # Tile arr2 n_rows1 times\n",
    "    tiled_arr2 = np.tile(arr2, (n_rows1, 1))\n",
    "\n",
    "    # Combine the results to form the Cartesian product\n",
    "    cartesian_product = np.hstack((repeated_arr1, tiled_arr2))\n",
    "\n",
    "    return cartesian_product\n",
    "\n",
    "cart_array = cross_join(frame_patoms[0], ref_patoms_array)"
   ]
  },
  {
   "cell_type": "code",
   "execution_count": 7,
   "metadata": {},
   "outputs": [],
   "source": [
    "\n"
   ]
  },
  {
   "cell_type": "code",
   "execution_count": 8,
   "metadata": {},
   "outputs": [
    {
     "name": "stdout",
     "output_type": "stream",
     "text": [
      "1.2997537851333618e-05\n"
     ]
    }
   ],
   "source": [
    "x_diff = abs(cart_array[:,0] - cart_array[:,8])\n",
    "y_diff = abs(cart_array[:,1] - cart_array[:,9])\n",
    "x_cent_diff = abs(cart_array[:,2] - cart_array[:,10]).min()\n",
    "y_cent_diff = abs(cart_array[:,3] - cart_array[:,11]).min()\n",
    "\n",
    "print(x_cent_diff)"
   ]
  },
  {
   "cell_type": "code",
   "execution_count": null,
   "metadata": {},
   "outputs": [],
   "source": []
  }
 ],
 "metadata": {
  "kernelspec": {
   "display_name": "base",
   "language": "python",
   "name": "python3"
  },
  "language_info": {
   "codemirror_mode": {
    "name": "ipython",
    "version": 3
   },
   "file_extension": ".py",
   "mimetype": "text/x-python",
   "name": "python",
   "nbconvert_exporter": "python",
   "pygments_lexer": "ipython3",
   "version": "3.12.2"
  }
 },
 "nbformat": 4,
 "nbformat_minor": 2
}
