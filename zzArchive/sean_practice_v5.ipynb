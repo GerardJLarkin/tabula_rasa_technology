{
 "cells": [
  {
   "cell_type": "code",
   "execution_count": 1,
   "metadata": {},
   "outputs": [],
   "source": [
    "## add ignore warnings for now, will remove and debug once full algorithm is complete\n",
    "import warnings\n",
    "warnings.filterwarnings(\"ignore\")\n",
    "\n",
    "## import packages/libraries\n",
    "from time import perf_counter, clock_gettime_ns, CLOCK_REALTIME\n",
    "import numpy as np\n",
    "from multiprocessing import Pool, cpu_count\n",
    "from itertools import product\n",
    "import sys\n",
    "import sqlite3\n",
    "\n",
    "## append filepath to allow files to be called from within project folder\n",
    "sys.path.append('/home/gerard/Desktop/capstone_project/patoms')\n",
    "sys.path.append('/home/gerard/Desktop/capstone_project')\n",
    "\n",
    "## call locally created functions\n",
    "from snapshot_2d_pattern_v6 import patoms2d\n",
    "from snapshot_3d_pattern_v6 import patoms3d\n",
    "from pattern_2d_compare_v4 import pattern_compare_2d\n",
    "from pattern_3d_compare_v4 import pattern_compare_3d\n",
    "from get_2d_table_names_v0 import table_names_2d\n",
    "from updating_ref_table_v0 import update_ref_table\n",
    "from patom_to_table_v0 import patom_to_table_func"
   ]
  },
  {
   "cell_type": "code",
   "execution_count": 2,
   "metadata": {},
   "outputs": [],
   "source": [
    "## create in memory 2d database\n",
    "con2d = sqlite3.connect(\":memory:\")\n",
    "cur2d = con2d.cursor()\n",
    "cur2d.execute('create table pat_2d_000000(x_pos_dist, y_pos_dist, x_cent, y_cent, patom_ind, frame_ind, patom_time);')\n",
    "con2d.commit()"
   ]
  },
  {
   "cell_type": "code",
   "execution_count": 3,
   "metadata": {},
   "outputs": [],
   "source": [
    "## read 2d ref database into memory and convert to ref patoms for comparison\n",
    "working_ref_patoms = []\n",
    "with open('/home/gerard/Desktop/capstone_project/ref2d_v1.db', 'rb') as f:\n",
    "    con2dref = sqlite3.connect(\":memory:\")\n",
    "    con2dref.deserialize(f.read())\n",
    "    cur2dref = con2dref.cursor()\n",
    "    ref_names = [name for (name,) in cur2dref.execute(\"select name from sqlite_master where type='table';\").fetchall()]\n",
    "    for i in ref_names:\n",
    "        table = cur2dref.execute(f\"select * from {i};\").fetchall()\n",
    "        # patom = [norm_x, norm_y, pattern_centroid_x, pattern_centroid_y, patom_ind, frame_ind, patom_time]\n",
    "        table_array = np.array(table)\n",
    "        # norm_x = np.array([x[0] for x in table]); norm_y = np.array([x[1] for x in table])\n",
    "        # pattern_centroid_x = np.array([x[2] for x in table]); pattern_centroid_y = np.array([x[3] for x in table])\n",
    "        # patom_ind = [x[4] for x in table]; frame_ind = [x[5] for x in table]; patom_time = [x[6] for x in table]\n",
    "\n",
    "        working_ref_patoms.append(table_array)\n",
    "ref_patoms_array = np.vstack(working_ref_patoms[:5000])"
   ]
  },
  {
   "cell_type": "code",
   "execution_count": 4,
   "metadata": {},
   "outputs": [
    {
     "name": "stdout",
     "output_type": "stream",
     "text": [
      "Time to get 2D patterns with multiprocessing (secs): 0.4128341770010593\n"
     ]
    }
   ],
   "source": [
    "val = 0\n",
    "while val == 0:\n",
    "    rand_array = np.random.random((1, 720, 1280))\n",
    "    y_len = rand_array.shape[1]\n",
    "    x_len = rand_array.shape[2]\n",
    "    # ingest data frame by frame\n",
    "    for frame in range(rand_array.shape[0]):\n",
    "        #################################################################################\n",
    "        ####################### FIRST TASK: FIND PATTERNS IN FRAME ######################\n",
    "        #################################################################################\n",
    "        frame_patoms = patoms2d(x_len, y_len, rand_array[frame,:,:], frame)\n",
    "        # patom = [[norm_x, norm_y], [pattern_centroid_x, pattern_centroid_y], patom_ind, frame_ind, patom_time]\n",
    "        # patom[i][[0][0]: list of x_pos, patom[i][[0][1]: list of y_pos, patom[i][[1][0]: x_cent, patom[i][[1][1]: y_cent, patom[i][[2]: patom_ind, patom[i][[3]: frame_ind, patom[i][[4]: patom_time,\n",
    "        # num_patoms = len(frame_patoms)\n",
    "        val += 1\n",
    "        # ###########################################################################\n",
    "        # ########## SECOND TASK: COMPARE NEW PATOMS AGAINST REF PATOMS #############\n",
    "        # ###########################################################################\n",
    "        # atime = perf_counter()\n",
    "        # comp_indexes = list(product(range(num_patoms), range(len(working_ref_patoms[:100])))) ## this is the MAJOR limiting factor at the moment\n",
    "        # with Pool(processes=cpu_count()) as pool:\n",
    "        #     items = [(frame_patoms[i[0]][0], frame_patoms[i[0]][1], frame_patoms[i[0]][2], frame_patoms[i[0]][3],\\\n",
    "        #             working_ref_patoms[i[1]][0], working_ref_patoms[i[1]][1], working_ref_patoms[i[1]][2], working_ref_patoms[i[1]][3], i) for i in comp_indexes]\n",
    "        #     ## function outputs ind value of the patom_indexes list, the centroid and distance similarity measures\n",
    "        #     ########################################################################################################\n",
    "        #     ########################################################################################################\n",
    "        #     ###### ATTEMPT TO CONVERT ALL REF TABLES INTO SINGLE NUMPY ARRAY TO COMPAR AGAINST NEW PATTERNS ########\n",
    "        #     ########################################################################################################\n",
    "        #     ########################################################################################################\n",
    "        #     comp_results = pool.starmap(pattern_compare_2d, items)\n",
    "        #     comp_results = [x for x in comp_results if x is not None]\n",
    "        #     print(\"Time to compare 2D patterns with multiprocessing (secs):\", (perf_counter()-atime))\n",
    "        #     # res output: [(i, j)]\n",
    "        #     # get the remaining new patoms that were not flagged as being similar to previous patterns\n",
    "        #     remaining_comp_indexes = list(set([x[0] for x in comp_indexes if x not in comp_results]))\n",
    "        #     ## loop through the output of the comparison function\n",
    "        #     if comp_results:\n",
    "        #         for ix, i in enumerate(comp_results):\n",
    "        #             print('similar')\n",
    "        #             # get max table number from 2d database\n",
    "        #             mttime = perf_counter()\n",
    "        #             next_table_num = int([table for (table,) in cur2d.execute(\"SELECT name FROM sqlite_master WHERE type='table';\").fetchall()].pop(-1)[-6:]) + 1 \n",
    "        #             print('time to get max table:',perf_counter()-mttime)\n",
    "        #             next_table_num = str(next_table_num).zfill(6)\n",
    "        #             # check if table exists, if so, add patom, if not create table and add patom\n",
    "        #             ref_table_num = ref_names[i[1]][-6:] # check this is correct\n",
    "        #             new_patom = frame_patoms[i[0]] # check this is correct\n",
    "        #             ptttime = perf_counter()\n",
    "        #             patom_to_table = patom_to_table_func(new_patom)\n",
    "        #             print('time to convert patom to table:',perf_counter()-ptttime)\n",
    "        #             # add patom to relevant pattern table get name of ref table to get data table name\n",
    "        #             if f\"pat_2d_{ref_table_num}\" in [names for (names,) in cur2d.execute(\"select name from sqlite_master where type='table';\").fetchall()]:\n",
    "        #                 cur2d.executemany(f\"INSERT INTO pat_2d_{ref_table_num}(x_pos_dist, y_pos_dist, x_cent, y_cent, patom_ind, frame_ind, patom_time) VALUES (?,?,?,?,?,?,?)\", patom_to_table)\n",
    "        #                 con2d.commit()\n",
    "        #                 # patom = [norm_x, norm_y, pattern_centroid_x, pattern_centroid_y, patom_ind, frame_ind, patom_time]\n",
    "        #             else:\n",
    "        #                 cur2d.execute(f\"CREATE TABLE pat_2d_{ref_table_num}(x_pos_dist, y_pos_dist, x_cent, y_cent, patom_ind, frame_ind, patom_time);\")\n",
    "        #                 cur2d.executemany(f\"INSERT INTO pat_2d_{ref_table_num}(x_pos_dist, y_pos_dist, x_cent, y_cent, patom_ind, frame_ind, patom_time) VALUES (?,?,?,?,?,?,?)\", patom_to_table)\n",
    "        #                 con2d.commit()\n",
    "        #     else:\n",
    "        #         for i in remaining_comp_indexes:\n",
    "        #             mttime = perf_counter()\n",
    "        #             next_table_num = int([table for (table,) in cur2d.execute(\"SELECT name FROM sqlite_master WHERE type='table';\").fetchall()].pop(-1)[-6:]) + 1 \n",
    "        #             print('time to get max table:',perf_counter()-mttime)\n",
    "        #             next_table_num = str(next_table_num).zfill(6)\n",
    "        #             new_patom = frame_patoms[i] # check this is correct\n",
    "        #             ptttime = perf_counter()\n",
    "        #             patom_to_table = patom_to_table_func(new_patom)\n",
    "        #             print('time to convert patom to table:',perf_counter()-ptttime)\n",
    "        #             # if patom is not matched then create new pattern & ref tables, get max table name and then create next new one\n",
    "        #             cur2d.execute(f\"CREATE TABLE pat_2d_{next_table_num}(x_pos_dist, y_pos_dist, x_cent, y_cent, patom_ind, frame_ind, patom_time);\")\n",
    "        #             cur2d.executemany(f\"INSERT INTO pat_2d_{next_table_num}(x_pos_dist, y_pos_dist, x_cent, y_cent, patom_ind, frame_ind, patom_time) VALUES (?,?,?,?,?,?,?)\", patom_to_table)\n",
    "        #             con2d.commit()\n"
   ]
  },
  {
   "cell_type": "code",
   "execution_count": 5,
   "metadata": {},
   "outputs": [
    {
     "data": {
      "text/plain": [
       "(70, 8)"
      ]
     },
     "execution_count": 5,
     "metadata": {},
     "output_type": "execute_result"
    }
   ],
   "source": [
    "working_ref_patoms[0].shape"
   ]
  },
  {
   "cell_type": "code",
   "execution_count": 6,
   "metadata": {},
   "outputs": [
    {
     "ename": "MemoryError",
     "evalue": "Unable to allocate 331. GiB for an array with shape (9868, 562205, 16) and data type float32",
     "output_type": "error",
     "traceback": [
      "\u001b[0;31m---------------------------------------------------------------------------\u001b[0m",
      "\u001b[0;31mMemoryError\u001b[0m                               Traceback (most recent call last)",
      "Cell \u001b[0;32mIn[6], line 11\u001b[0m\n\u001b[1;32m      8\u001b[0m     \u001b[38;5;28;01mreturn\u001b[39;00m out\u001b[38;5;241m.\u001b[39mreshape(m1\u001b[38;5;241m*\u001b[39mm2,\u001b[38;5;241m-\u001b[39m\u001b[38;5;241m1\u001b[39m)\n\u001b[1;32m     10\u001b[0m st \u001b[38;5;241m=\u001b[39m perf_counter()\n\u001b[0;32m---> 11\u001b[0m test_cart \u001b[38;5;241m=\u001b[39m concatenate_per_row(frame_patoms, ref_patoms_array)\n\u001b[1;32m     12\u001b[0m \u001b[38;5;28mprint\u001b[39m(\u001b[38;5;124m'\u001b[39m\u001b[38;5;124mtime in seconds:\u001b[39m\u001b[38;5;124m'\u001b[39m, (perf_counter()\u001b[38;5;241m-\u001b[39mst)\u001b[38;5;241m/\u001b[39m\u001b[38;5;241m60\u001b[39m)\n\u001b[1;32m     13\u001b[0m \u001b[38;5;28mprint\u001b[39m(test_cart\u001b[38;5;241m.\u001b[39mshape)\n",
      "Cell \u001b[0;32mIn[6], line 5\u001b[0m, in \u001b[0;36mconcatenate_per_row\u001b[0;34m(A, B)\u001b[0m\n\u001b[1;32m      2\u001b[0m m1,n1 \u001b[38;5;241m=\u001b[39m A\u001b[38;5;241m.\u001b[39mshape\n\u001b[1;32m      3\u001b[0m m2,n2 \u001b[38;5;241m=\u001b[39m B\u001b[38;5;241m.\u001b[39mshape\n\u001b[0;32m----> 5\u001b[0m out \u001b[38;5;241m=\u001b[39m np\u001b[38;5;241m.\u001b[39mzeros((m1,m2,n1\u001b[38;5;241m+\u001b[39mn2),dtype\u001b[38;5;241m=\u001b[39mA\u001b[38;5;241m.\u001b[39mdtype)\n\u001b[1;32m      6\u001b[0m out[:,:,:n1] \u001b[38;5;241m=\u001b[39m A[:,\u001b[38;5;28;01mNone\u001b[39;00m,:]\n\u001b[1;32m      7\u001b[0m out[:,:,n1:] \u001b[38;5;241m=\u001b[39m B\n",
      "\u001b[0;31mMemoryError\u001b[0m: Unable to allocate 331. GiB for an array with shape (9868, 562205, 16) and data type float32"
     ]
    }
   ],
   "source": [
    "def concatenate_per_row(A, B):\n",
    "    m1,n1 = A.shape\n",
    "    m2,n2 = B.shape\n",
    "\n",
    "    out = np.zeros((m1,m2,n1+n2),dtype=A.dtype)\n",
    "    out[:,:,:n1] = A[:,None,:]\n",
    "    out[:,:,n1:] = B\n",
    "    return out.reshape(m1*m2,-1)\n",
    "\n",
    "st = perf_counter()\n",
    "test_cart = concatenate_per_row(frame_patoms[0], ref_patoms_array)\n",
    "print('time in seconds:', (perf_counter()-st)/60)\n",
    "print(test_cart.shape)"
   ]
  },
  {
   "cell_type": "code",
   "execution_count": null,
   "metadata": {},
   "outputs": [
    {
     "ename": "MemoryError",
     "evalue": "Unable to allocate 20.7 GiB for an array with shape (1386917869, 2) and data type int64",
     "output_type": "error",
     "traceback": [
      "\u001b[0;31m---------------------------------------------------------------------------\u001b[0m",
      "\u001b[0;31mMemoryError\u001b[0m                               Traceback (most recent call last)",
      "Cell \u001b[0;32mIn[8], line 24\u001b[0m\n\u001b[1;32m     22\u001b[0m     \u001b[38;5;28;01mreturn\u001b[39;00m result\n\u001b[1;32m     23\u001b[0m st \u001b[38;5;241m=\u001b[39m perf_counter()\n\u001b[0;32m---> 24\u001b[0m test2_cart \u001b[38;5;241m=\u001b[39m pseudo_cross_join(frame_patoms, ref_patoms_array)\n\u001b[1;32m     25\u001b[0m \u001b[38;5;28mprint\u001b[39m(\u001b[38;5;124m'\u001b[39m\u001b[38;5;124mtime in seconds:\u001b[39m\u001b[38;5;124m'\u001b[39m, (perf_counter()\u001b[38;5;241m-\u001b[39mst)\u001b[38;5;241m/\u001b[39m\u001b[38;5;241m60\u001b[39m)\n\u001b[1;32m     26\u001b[0m \u001b[38;5;28mprint\u001b[39m(test2_cart\u001b[38;5;241m.\u001b[39mshape)\n",
      "Cell \u001b[0;32mIn[8], line 13\u001b[0m, in \u001b[0;36mpseudo_cross_join\u001b[0;34m(new_patom, ref_arrays)\u001b[0m\n\u001b[1;32m     10\u001b[0m category_match \u001b[38;5;241m=\u001b[39m categories1[:, \u001b[38;5;28;01mNone\u001b[39;00m] \u001b[38;5;241m==\u001b[39m categories2[\u001b[38;5;28;01mNone\u001b[39;00m, :]\n\u001b[1;32m     12\u001b[0m \u001b[38;5;66;03m# Get indices where categories match\u001b[39;00m\n\u001b[0;32m---> 13\u001b[0m indices1, indices2 \u001b[38;5;241m=\u001b[39m np\u001b[38;5;241m.\u001b[39mwhere(category_match)\n\u001b[1;32m     15\u001b[0m \u001b[38;5;66;03m# Select matching rows\u001b[39;00m\n\u001b[1;32m     16\u001b[0m matched_array1 \u001b[38;5;241m=\u001b[39m new_patom[indices1]\n",
      "\u001b[0;31mMemoryError\u001b[0m: Unable to allocate 20.7 GiB for an array with shape (1386917869, 2) and data type int64"
     ]
    }
   ],
   "source": [
    "def pseudo_cross_join(new_patom, ref_arrays):\n",
    "    # Extract the category column\n",
    "    categories1 = new_patom[:, 4]\n",
    "    categories2 = ref_arrays[:, 4]\n",
    "    \n",
    "    # Perform a Cartesian join\n",
    "    m, n = len(new_patom), len(ref_arrays)\n",
    "\n",
    "    # Expand dimensions to compare categories using broadcasting\n",
    "    category_match = categories1[:, None] == categories2[None, :]\n",
    "\n",
    "    # Get indices where categories match\n",
    "    indices1, indices2 = np.where(category_match)\n",
    "\n",
    "    # Select matching rows\n",
    "    matched_array1 = new_patom[indices1]\n",
    "    matched_array2 = ref_arrays[indices2]\n",
    "\n",
    "    # Concatenate horizontally to form the final joined result\n",
    "    result = np.hstack((matched_array1, matched_array2))\n",
    "\n",
    "    return result\n",
    "st = perf_counter()\n",
    "test2_cart = pseudo_cross_join(frame_patoms[0], ref_patoms_array)\n",
    "print('time in seconds:', (perf_counter()-st)/60)\n",
    "print(test2_cart.shape)\n"
   ]
  },
  {
   "cell_type": "code",
   "execution_count": null,
   "metadata": {},
   "outputs": [],
   "source": [
    "x_diff = abs(test_cart[:,0] - test_cart[:,7])\n",
    "y_diff = abs(test_cart[:,1] - test_cart[:,8])\n",
    "x_cent_diff = abs(test_cart[:,2] - test_cart[:,9]).min()\n",
    "y_cent_diff = abs(test_cart[:,3] - test_cart[:,10]).min()\n",
    "# print(len(test_cart[:,0] .tolist()))\n",
    "# print(len(test_cart[:,7] .tolist()))\n",
    "# print(len(results.tolist()))\n",
    "print(x_cent_diff)"
   ]
  },
  {
   "cell_type": "code",
   "execution_count": null,
   "metadata": {},
   "outputs": [],
   "source": []
  }
 ],
 "metadata": {
  "kernelspec": {
   "display_name": "base",
   "language": "python",
   "name": "python3"
  },
  "language_info": {
   "codemirror_mode": {
    "name": "ipython",
    "version": 3
   },
   "file_extension": ".py",
   "mimetype": "text/x-python",
   "name": "python",
   "nbconvert_exporter": "python",
   "pygments_lexer": "ipython3",
   "version": "3.12.2"
  }
 },
 "nbformat": 4,
 "nbformat_minor": 2
}
