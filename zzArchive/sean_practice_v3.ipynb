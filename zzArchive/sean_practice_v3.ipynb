{
 "cells": [
  {
   "cell_type": "code",
   "execution_count": 1,
   "metadata": {},
   "outputs": [],
   "source": [
    "## add ignore warnings for now, will remove and debug once full algorithm is complete\n",
    "import warnings\n",
    "warnings.filterwarnings(\"ignore\")\n",
    "\n",
    "## import packages/libraries\n",
    "from time import perf_counter, clock_gettime_ns, CLOCK_REALTIME\n",
    "import numpy as np\n",
    "from multiprocessing import Pool, cpu_count\n",
    "from itertools import product\n",
    "import sys\n",
    "import sqlite3\n",
    "\n",
    "## append filepath to allow files to be called from within project folder\n",
    "sys.path.append('/home/gerard/Desktop/capstone_project/patoms')\n",
    "sys.path.append('/home/gerard/Desktop/capstone_project')\n",
    "\n",
    "## call locally created functions\n",
    "from snapshot_2d_pattern_v5 import patoms2d\n",
    "from snapshot_3d_pattern_v6 import patoms3d\n",
    "from pattern_2d_compare_v3 import pattern_compare_2d\n",
    "from pattern_3d_compare_v4 import pattern_compare_3d\n",
    "from get_2d_table_names_v0 import table_names_2d\n",
    "from updating_ref_table_v0 import update_ref_table\n",
    "from patom_to_table_v0 import patom_to_table_func"
   ]
  },
  {
   "cell_type": "code",
   "execution_count": 2,
   "metadata": {},
   "outputs": [],
   "source": [
    "## create in memory 2d database\n",
    "con2d = sqlite3.connect(\":memory:\")\n",
    "cur2d = con2d.cursor()\n",
    "cur2d.execute('create table pat_2d_000000(x_pos_dist, y_pos_dist, x_cent, y_cent, patom_ind, frame_ind, patom_time);')\n",
    "\n",
    "## set similarity threshold limits\n",
    "xc_perc = 0.80 \n",
    "yc_perc = 0.80\n",
    "xp_perc = 0.80\n",
    "xn_perc = 0.80\n",
    "yp_perc = 0.80\n",
    "yn_perc = 0.80"
   ]
  },
  {
   "cell_type": "code",
   "execution_count": null,
   "metadata": {},
   "outputs": [],
   "source": [
    "## read 2d ref database into memory and convert to ref patoms for comparison\n",
    "working_ref_patoms = []\n",
    "with open('/home/gerard/Desktop/capstone_project/ref2d.db', 'rb') as f:\n",
    "    con2dref = sqlite3.connect(\":memory:\")\n",
    "    con2dref.deserialize(f.read())\n",
    "    cur2dref = con2dref.cursor()\n",
    "    ref_names = [name for (name,) in cur2dref.execute(\"select name from sqlite_master where type='table';\").fetchall()]\n",
    "    for i in ref_names:\n",
    "        table = cur2dref.execute(f\"select * from {i};\").fetchall()\n",
    "        # patom = [norm_x, norm_y, pattern_centroid_x, pattern_centroid_y, patom_ind, frame_ind, patom_time]\n",
    "        norm_x = [x[0] for x in table]; norm_y = [x[1] for x in table]; pattern_centroid_x = [x[2] for x in table][0]; pattern_centroid_y = [x[3] for x in table][0]\n",
    "        working_ref_patoms.append([norm_x, norm_y, pattern_centroid_x, pattern_centroid_y])"
   ]
  },
  {
   "cell_type": "code",
   "execution_count": null,
   "metadata": {},
   "outputs": [],
   "source": [
    "val = 0\n",
    "while val <= 30:\n",
    "    rand_array = np.random.random((1, 720, 1280))\n",
    "    y_len = rand_array.shape[1]\n",
    "    x_len = rand_array.shape[2]\n",
    "    # ingest data frame by frame\n",
    "    for frame in range(rand_array.shape[0]):\n",
    "        #################################################################################\n",
    "        ####################### FIRST TASK: FIND PATTERNS IN FRAME ######################\n",
    "        #################################################################################\n",
    "        frame_patoms = patoms2d(x_len, y_len, rand_array[frame,:,:], frame)\n",
    "        # patom = [[norm_x, norm_y], [pattern_centroid_x, pattern_centroid_y], patom_ind, frame_ind, patom_time]\n",
    "        # patom[i][[0][0]: list of x_pos, patom[i][[0][1]: list of y_pos, patom[i][[1][0]: x_cent, patom[i][[1][1]: y_cent, patom[i][[2]: patom_ind, patom[i][[3]: frame_ind, patom[i][[4]: patom_time,\n",
    "        num_patoms = len(frame_patoms)\n",
    "        val += 1\n",
    "        ###########################################################################\n",
    "        ########## SECOND TASK: COMPARE NEW PATOMS AGAINST REF PATOMS #############\n",
    "        ###########################################################################\n",
    "        comp_indexes = list(product(range(num_patoms), range(len(working_ref_patoms))))\n",
    "        with Pool(processes=cpu_count()) as pool:\n",
    "            items = [(frame_patoms[i[0]][0], frame_patoms[i[0]][1], frame_patoms[i[0]][2], frame_patoms[i[0]][3],\\\n",
    "                    working_ref_patoms[i[1]][0], working_ref_patoms[i[1]][1], working_ref_patoms[i[1]][2], working_ref_patoms[i[1]][3], i) for i in comp_indexes]\n",
    "            ## function outputs ind value of the patom_indexes list, the centroid and distance similarity measures\n",
    "            comp_results = pool.starmap(pattern_compare_2d, items)\n",
    "            # res output: [xc_sim, yc_sim, sim_perc_xp, sim_perc_xn, sim_perc_yp, sim_perc_yn, (i, j)]\n",
    "            ## loop through the output of the comparison function\n",
    "            for ix, i in enumerate(comp_results):\n",
    "                # get max table number from 2d database\n",
    "                next_table_num = int(max([table for (table,) in cur2d.execute(\"SELECT name FROM sqlite_master WHERE type='table';\").fetchall()])[-6:]) + 1 \n",
    "                next_table_num = str(next_table_num).zfill(6)\n",
    "                # check if table exists, if so, add patom, if not create table and add patom\n",
    "                ref_table_num = ref_names[i[2][1]][-6:] # check this is correct\n",
    "                new_patom = frame_patoms[i[2][0]] # check this is correct\n",
    "                patom_to_table = patom_to_table_func(new_patom)\n",
    "                if (i[0][0] >= xc_perc) and (i[0][1] >= yc_perc) and (i[1][0] >= xp_perc) and (i[1][1] >= xn_perc) and (i[1][2] >= yp_perc) and (i[0][3] >= yn_perc):\n",
    "                    # add patom to relevant pattern table get name of ref table to get data table name\n",
    "                    print('similar')\n",
    "                    if f\"pat_2d_{ref_table_num}\" in [names for (names,) in cur2d.execute(\"select name from sqlite_master where type='table';\").fetchall()]:\n",
    "                        cur2d.executemany(f\"INSERT INTO pat_2d_{ref_table_num}(x_pos_dist, y_pos_dist, x_cent, y_cent, patom_ind, frame_ind, patom_time) VALUES (?,?,?,?,?,?,?)\", patom_to_table)\n",
    "                        con2d.commit()\n",
    "                        # patom = [norm_x, norm_y, pattern_centroid_x, pattern_centroid_y, patom_ind, frame_ind, patom_time]\n",
    "                    else:\n",
    "                        cur2d.execute(f\"CREATE TABLE pat_2d_{ref_table_num}(x_pos_dist, y_pos_dist, x_cent, y_cent, patom_ind, frame_ind, patom_time);\")\n",
    "                        cur2d.executemany(f\"INSERT INTO pat_2d_{ref_table_num}(x_pos_dist, y_pos_dist, x_cent, y_cent, patom_ind, frame_ind, patom_time) VALUES (?,?,?,?,?,?,?)\", patom_to_table)\n",
    "                        con2d.commit()\n",
    "                else:\n",
    "                    # if patom is not matched then create new pattern & ref tables, get max table name and then create next new one\n",
    "                    cur2d.execute(f\"CREATE TABLE pat_2d_{next_table_num}(x_pos_dist, y_pos_dist, x_cent, y_cent, patom_ind, frame_ind, patom_time);\")\n",
    "                    cur2d.executemany(f\"INSERT INTO pat_2d_{next_table_num}(x_pos_dist, y_pos_dist, x_cent, y_cent, patom_ind, frame_ind, patom_time) VALUES (?,?,?,?,?,?,?)\", patom_to_table)\n",
    "                    con2d.commit()\n"
   ]
  },
  {
   "cell_type": "code",
   "execution_count": null,
   "metadata": {},
   "outputs": [],
   "source": []
  },
  {
   "cell_type": "code",
   "execution_count": null,
   "metadata": {},
   "outputs": [],
   "source": [
    "# patom_table_names = cur2d.execute(\"SELECT name FROM sqlite_master WHERE type='table' AND name NOT LIKE '%ref%';\").fetchall()\n",
    "# patom_tables = [name for (name,) in patom_table_names]\n",
    "# for (name,) in patom_table_names:\n",
    "#     print(cur2d.execute(f\"select count(distinct patom_time) from {name};\").fetchone())\n",
    "\n",
    "# con2d.close()"
   ]
  }
 ],
 "metadata": {
  "kernelspec": {
   "display_name": "base",
   "language": "python",
   "name": "python3"
  },
  "language_info": {
   "codemirror_mode": {
    "name": "ipython",
    "version": 3
   },
   "file_extension": ".py",
   "mimetype": "text/x-python",
   "name": "python",
   "nbconvert_exporter": "python",
   "pygments_lexer": "ipython3",
   "version": "3.12.2"
  }
 },
 "nbformat": 4,
 "nbformat_minor": 2
}
