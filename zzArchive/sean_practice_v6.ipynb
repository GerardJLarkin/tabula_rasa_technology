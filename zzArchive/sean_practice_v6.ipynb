{
 "cells": [
  {
   "cell_type": "code",
   "execution_count": 42,
   "metadata": {},
   "outputs": [],
   "source": [
    "## add ignore warnings for now, will remove and debug once full algorithm is complete\n",
    "import warnings\n",
    "warnings.filterwarnings(\"ignore\")\n",
    "\n",
    "## import packages/libraries\n",
    "from time import perf_counter, clock_gettime_ns, CLOCK_REALTIME\n",
    "import numpy as np\n",
    "import pandas as pd\n",
    "from multiprocessing import Pool, cpu_count\n",
    "from itertools import product\n",
    "import sys\n",
    "import sqlite3\n",
    "\n",
    "## append filepath to allow files to be called from within project folder\n",
    "sys.path.append('/home/gerard/Desktop/capstone_project/patoms')\n",
    "sys.path.append('/home/gerard/Desktop/capstone_project')\n",
    "\n",
    "## call locally created functions\n",
    "from snapshot_2d_pattern_v6 import patoms2d\n",
    "from snapshot_3d_pattern_v6 import patoms3d\n",
    "from pattern_2d_compare_v4 import pattern_compare_2d\n",
    "from pattern_3d_compare_v4 import pattern_compare_3d\n",
    "from get_2d_table_names_v0 import table_names_2d\n",
    "from updating_ref_table_v0 import update_ref_table\n",
    "from patom_to_table_v0 import patom_to_table_func"
   ]
  },
  {
   "cell_type": "code",
   "execution_count": 4,
   "metadata": {},
   "outputs": [],
   "source": [
    "## create in memory 2d database\n",
    "con2d = sqlite3.connect(\":memory:\")\n",
    "cur2d = con2d.cursor()\n",
    "cur2d.execute('create table pat_2d_000000(x_pos_dist, y_pos_dist, x_cent, y_cent, patom_ind, frame_ind, patom_time);')\n",
    "con2d.commit()"
   ]
  },
  {
   "cell_type": "code",
   "execution_count": 35,
   "metadata": {},
   "outputs": [],
   "source": [
    "## read 2d ref database into memory and convert to ref patoms for comparison\n",
    "working_ref_patoms = []\n",
    "with open('/home/gerard/Desktop/capstone_project/ref2d_v3.db', 'rb') as f:\n",
    "    con2dref = sqlite3.connect(\":memory:\")\n",
    "    con2dref.deserialize(f.read())\n",
    "    cur2dref = con2dref.cursor()\n",
    "    ref_names = [name for (name,) in cur2dref.execute(\"select name from sqlite_master where type='table';\").fetchall()]\n",
    "    for i in ref_names:\n",
    "        table = cur2dref.execute(f\"select * from {i};\").fetchall()\n",
    "        # patom = [norm_x, norm_y, pattern_centroid_x, pattern_centroid_y, patom_ind, frame_ind, patom_time]\n",
    "        table_array = np.array(table)\n",
    "\n",
    "        working_ref_patoms.append(table_array)\n",
    "ref_patoms_array = np.vstack(working_ref_patoms[:5000])"
   ]
  },
  {
   "cell_type": "code",
   "execution_count": null,
   "metadata": {},
   "outputs": [
    {
     "name": "stdout",
     "output_type": "stream",
     "text": [
      "Time to get 2D patterns with multiprocessing (secs): 0.49216057000001\n"
     ]
    }
   ],
   "source": [
    "val = 0\n",
    "while val == 0:\n",
    "    rand_array = np.random.random((1, 720, 1280))\n",
    "    y_len = rand_array.shape[1]\n",
    "    x_len = rand_array.shape[2]\n",
    "    # ingest data frame by frame\n",
    "    for frame in range(rand_array.shape[0]):\n",
    "        #################################################################################\n",
    "        ####################### FIRST TASK: FIND PATTERNS IN FRAME ######################\n",
    "        #################################################################################\n",
    "        frame_patoms = patoms2d(x_len, y_len, rand_array[frame,:,:], frame)\n",
    "        # patom = [[norm_x, norm_y], [pattern_centroid_x, pattern_centroid_y], patom_ind, frame_ind, patom_time]\n",
    "        # patom[i][[0][0]: list of x_pos, patom[i][[0][1]: list of y_pos, patom[i][[1][0]: x_cent, patom[i][[1][1]: y_cent, patom[i][[2]: patom_ind, patom[i][[3]: frame_ind, patom[i][[4]: patom_time,\n",
    "        num_patoms = len(frame_patoms)\n",
    "        val += 1\n",
    "        # ###########################################################################\n",
    "        # ########## SECOND TASK: COMPARE NEW PATOMS AGAINST REF PATOMS #############\n",
    "        # ###########################################################################\n",
    "        atime = perf_counter()\n",
    "        comp_indexes = list(product(range(num_patoms), range(len(working_ref_patoms[:100])))) ## this is the MAJOR limiting factor at the moment\n",
    "        with Pool(processes=cpu_count()) as pool:\n",
    "            items = [(frame_patoms[i[0]][0], frame_patoms[i[0]][1], frame_patoms[i[0]][2], frame_patoms[i[0]][3],\\\n",
    "                    working_ref_patoms[i[1]][0], working_ref_patoms[i[1]][1], working_ref_patoms[i[1]][2], working_ref_patoms[i[1]][3], i) for i in comp_indexes]\n",
    "            ## function outputs ind value of the patom_indexes list, the centroid and distance similarity measures\n",
    "            ########################################################################################################\n",
    "            ########################################################################################################\n",
    "            ###### ATTEMPT TO CONVERT ALL REF TABLES INTO SINGLE NUMPY ARRAY TO COMPAR AGAINST NEW PATTERNS ########\n",
    "            ########################################################################################################\n",
    "            ########################################################################################################\n",
    "            comp_results = pool.starmap(pattern_compare_2d, items)\n",
    "            comp_results = [x for x in comp_results if x is not None]\n",
    "            print(\"Time to compare 2D patterns with multiprocessing (secs):\", (perf_counter()-atime))\n",
    "            # res output: [(i, j)]\n",
    "            # get the remaining new patoms that were not flagged as being similar to previous patterns\n",
    "            remaining_comp_indexes = list(set([x[0] for x in comp_indexes if x not in comp_results]))\n",
    "            ## loop through the output of the comparison function\n",
    "            if comp_results:\n",
    "                for ix, i in enumerate(comp_results):\n",
    "                    print('similar')\n",
    "                    # get max table number from 2d database\n",
    "                    mttime = perf_counter()\n",
    "                    next_table_num = int([table for (table,) in cur2d.execute(\"SELECT name FROM sqlite_master WHERE type='table';\").fetchall()].pop(-1)[-6:]) + 1 \n",
    "                    print('time to get max table:',perf_counter()-mttime)\n",
    "                    next_table_num = str(next_table_num).zfill(6)\n",
    "                    # check if table exists, if so, add patom, if not create table and add patom\n",
    "                    ref_table_num = ref_names[i[1]][-6:] # check this is correct\n",
    "                    new_patom = frame_patoms[i[0]] # check this is correct\n",
    "                    ptttime = perf_counter()\n",
    "                    patom_to_table = patom_to_table_func(new_patom)\n",
    "                    print('time to convert patom to table:',perf_counter()-ptttime)\n",
    "                    # add patom to relevant pattern table get name of ref table to get data table name\n",
    "                    if f\"pat_2d_{ref_table_num}\" in [names for (names,) in cur2d.execute(\"select name from sqlite_master where type='table';\").fetchall()]:\n",
    "                        cur2d.executemany(f\"INSERT INTO pat_2d_{ref_table_num}(x_pos_dist, y_pos_dist, x_cent, y_cent, patom_ind, frame_ind, patom_time) VALUES (?,?,?,?,?,?,?)\", patom_to_table)\n",
    "                        con2d.commit()\n",
    "                        # patom = [norm_x, norm_y, pattern_centroid_x, pattern_centroid_y, patom_ind, frame_ind, patom_time]\n",
    "                    else:\n",
    "                        cur2d.execute(f\"CREATE TABLE pat_2d_{ref_table_num}(x_pos_dist, y_pos_dist, x_cent, y_cent, patom_ind, frame_ind, patom_time);\")\n",
    "                        cur2d.executemany(f\"INSERT INTO pat_2d_{ref_table_num}(x_pos_dist, y_pos_dist, x_cent, y_cent, patom_ind, frame_ind, patom_time) VALUES (?,?,?,?,?,?,?)\", patom_to_table)\n",
    "                        con2d.commit()\n",
    "            else:\n",
    "                for i in remaining_comp_indexes:\n",
    "                    mttime = perf_counter()\n",
    "                    next_table_num = int([table for (table,) in cur2d.execute(\"SELECT name FROM sqlite_master WHERE type='table';\").fetchall()].pop(-1)[-6:]) + 1 \n",
    "                    print('time to get max table:',perf_counter()-mttime)\n",
    "                    next_table_num = str(next_table_num).zfill(6)\n",
    "                    new_patom = frame_patoms[i] # check this is correct\n",
    "                    ptttime = perf_counter()\n",
    "                    patom_to_table = patom_to_table_func(new_patom)\n",
    "                    print('time to convert patom to table:',perf_counter()-ptttime)\n",
    "                    # if patom is not matched then create new pattern & ref tables, get max table name and then create next new one\n",
    "                    cur2d.execute(f\"CREATE TABLE pat_2d_{next_table_num}(x_pos_dist, y_pos_dist, x_cent, y_cent, patom_ind, frame_ind, patom_time);\")\n",
    "                    cur2d.executemany(f\"INSERT INTO pat_2d_{next_table_num}(x_pos_dist, y_pos_dist, x_cent, y_cent, patom_ind, frame_ind, patom_time) VALUES (?,?,?,?,?,?,?)\", patom_to_table)\n",
    "                    con2d.commit()\n"
   ]
  },
  {
   "cell_type": "code",
   "execution_count": 39,
   "metadata": {},
   "outputs": [
    {
     "name": "stdout",
     "output_type": "stream",
     "text": [
      "(71.0, 29.0)\n"
     ]
    }
   ],
   "source": [
    "print(list(set(zip(ref_patoms_array[:,6], ref_patoms_array[:,7])))[0])"
   ]
  },
  {
   "cell_type": "code",
   "execution_count": 79,
   "metadata": {},
   "outputs": [
    {
     "name": "stdout",
     "output_type": "stream",
     "text": [
      "time in seconds: 0.014321356566658021\n",
      "(4319574, 18)\n"
     ]
    }
   ],
   "source": [
    "# this does appear to work\n",
    "def pseudo_cross_join(new_patom, ref_arrays):\n",
    "    # Extract the category column\n",
    "    categories1 = new_patom[:, 4]\n",
    "    categories2 = ref_arrays[:, 4]\n",
    "    \n",
    "    # Perform a Cartesian join\n",
    "    m, n = len(new_patom), len(ref_arrays)\n",
    "\n",
    "    # Expand dimensions to compare categories using broadcasting\n",
    "    category_match = categories1[:, None] == categories2[None, :]\n",
    "\n",
    "    # Get indices where categories match\n",
    "    indices1, indices2 = np.where(category_match)\n",
    "\n",
    "    # Select matching rows\n",
    "    matched_array1 = new_patom[indices1]\n",
    "    matched_array2 = ref_arrays[indices2]\n",
    "\n",
    "    # Concatenate horizontally to form the final joined result\n",
    "    result = np.hstack((matched_array1, matched_array2))\n",
    "\n",
    "    return result\n",
    "st = perf_counter()\n",
    "cart = pseudo_cross_join(frame_patoms[0], ref_patoms_array)\n",
    "print('time in seconds:', (perf_counter()-st)/60)\n",
    "print(cart.shape)\n"
   ]
  },
  {
   "cell_type": "code",
   "execution_count": 80,
   "metadata": {},
   "outputs": [
    {
     "name": "stdout",
     "output_type": "stream",
     "text": [
      "5000\n"
     ]
    }
   ],
   "source": [
    "print(len(set(zip(cart[:,15], cart[:,16]))))"
   ]
  },
  {
   "cell_type": "code",
   "execution_count": 92,
   "metadata": {},
   "outputs": [
    {
     "name": "stdout",
     "output_type": "stream",
     "text": [
      "Index(['pq', 'ppind', 'pfind', 'rpind', 'rfind', 'xc_d', 'yc_d', 'x_d', 'y_d'], dtype='object')\n"
     ]
    },
    {
     "data": {
      "text/html": [
       "<div>\n",
       "<style scoped>\n",
       "    .dataframe tbody tr th:only-of-type {\n",
       "        vertical-align: middle;\n",
       "    }\n",
       "\n",
       "    .dataframe tbody tr th {\n",
       "        vertical-align: top;\n",
       "    }\n",
       "\n",
       "    .dataframe thead th {\n",
       "        text-align: right;\n",
       "    }\n",
       "</style>\n",
       "<table border=\"1\" class=\"dataframe\">\n",
       "  <thead>\n",
       "    <tr style=\"text-align: right;\">\n",
       "      <th></th>\n",
       "      <th>pq</th>\n",
       "      <th>ppind</th>\n",
       "      <th>pfind</th>\n",
       "      <th>rpind</th>\n",
       "      <th>rfind</th>\n",
       "      <th>xc_d</th>\n",
       "      <th>yc_d</th>\n",
       "      <th>x_d</th>\n",
       "      <th>y_d</th>\n",
       "      <th>similar</th>\n",
       "    </tr>\n",
       "  </thead>\n",
       "  <tbody>\n",
       "    <tr>\n",
       "      <th>0</th>\n",
       "      <td>13.0</td>\n",
       "      <td>0.0</td>\n",
       "      <td>0.0</td>\n",
       "      <td>0.0</td>\n",
       "      <td>0.0</td>\n",
       "      <td>0.100555</td>\n",
       "      <td>0.064047</td>\n",
       "      <td>0.365055</td>\n",
       "      <td>0.353862</td>\n",
       "      <td>0</td>\n",
       "    </tr>\n",
       "    <tr>\n",
       "      <th>4970</th>\n",
       "      <td>14.0</td>\n",
       "      <td>0.0</td>\n",
       "      <td>0.0</td>\n",
       "      <td>0.0</td>\n",
       "      <td>0.0</td>\n",
       "      <td>0.100555</td>\n",
       "      <td>0.064047</td>\n",
       "      <td>0.409414</td>\n",
       "      <td>0.385431</td>\n",
       "      <td>0</td>\n",
       "    </tr>\n",
       "    <tr>\n",
       "      <th>9943</th>\n",
       "      <td>23.0</td>\n",
       "      <td>0.0</td>\n",
       "      <td>0.0</td>\n",
       "      <td>0.0</td>\n",
       "      <td>0.0</td>\n",
       "      <td>0.100555</td>\n",
       "      <td>0.064047</td>\n",
       "      <td>0.316523</td>\n",
       "      <td>0.290306</td>\n",
       "      <td>0</td>\n",
       "    </tr>\n",
       "    <tr>\n",
       "      <th>14921</th>\n",
       "      <td>24.0</td>\n",
       "      <td>0.0</td>\n",
       "      <td>0.0</td>\n",
       "      <td>0.0</td>\n",
       "      <td>0.0</td>\n",
       "      <td>0.100555</td>\n",
       "      <td>0.064047</td>\n",
       "      <td>0.367278</td>\n",
       "      <td>0.324962</td>\n",
       "      <td>0</td>\n",
       "    </tr>\n",
       "    <tr>\n",
       "      <th>1</th>\n",
       "      <td>13.0</td>\n",
       "      <td>0.0</td>\n",
       "      <td>0.0</td>\n",
       "      <td>0.0</td>\n",
       "      <td>1.0</td>\n",
       "      <td>0.091584</td>\n",
       "      <td>0.044948</td>\n",
       "      <td>0.320902</td>\n",
       "      <td>0.349969</td>\n",
       "      <td>0</td>\n",
       "    </tr>\n",
       "  </tbody>\n",
       "</table>\n",
       "</div>"
      ],
      "text/plain": [
       "         pq  ppind  pfind  rpind  rfind      xc_d      yc_d       x_d  \\\n",
       "0      13.0    0.0    0.0    0.0    0.0  0.100555  0.064047  0.365055   \n",
       "4970   14.0    0.0    0.0    0.0    0.0  0.100555  0.064047  0.409414   \n",
       "9943   23.0    0.0    0.0    0.0    0.0  0.100555  0.064047  0.316523   \n",
       "14921  24.0    0.0    0.0    0.0    0.0  0.100555  0.064047  0.367278   \n",
       "1      13.0    0.0    0.0    0.0    1.0  0.091584  0.044948  0.320902   \n",
       "\n",
       "            y_d  similar  \n",
       "0      0.353862        0  \n",
       "4970   0.385431        0  \n",
       "9943   0.290306        0  \n",
       "14921  0.324962        0  \n",
       "1      0.349969        0  "
      ]
     },
     "execution_count": 92,
     "metadata": {},
     "output_type": "execute_result"
    }
   ],
   "source": [
    "cart_df = pd.DataFrame(cart, columns=['px','py','pxc','pyc','pq','pqlen','ppind','pfind','ptime','rx','ry','rxc','ryc','rq','rqlen','rpind','rfind','rtime'])\n",
    "cart_df['x_diff'] = abs(cart_df.iloc[:,0] - cart_df.iloc[:,9])\n",
    "cart_df['y_diff'] = abs(cart_df.iloc[:,1] - cart_df.iloc[:,10])\n",
    "cart_df['quad_len'] = cart_df.iloc[:,5] * cart_df.iloc[:,14]\n",
    "cart_df['xc_d'] = abs(cart_df.iloc[:,2] - cart_df.iloc[:,11])\n",
    "cart_df['yc_d'] = abs(cart_df.iloc[:,3] - cart_df.iloc[:,12])\n",
    "cart_grouped = cart_df.groupby(['pq','ppind','pfind','rpind','rfind','xc_d','yc_d']).agg({'x_diff': 'sum', 'y_diff': 'sum', 'quad_len': 'min'})\n",
    "cart_grouped['x_d'] = cart_grouped['x_diff'] / cart_grouped['quad_len']\n",
    "cart_grouped['y_d'] = cart_grouped['y_diff'] / cart_grouped['quad_len']\n",
    "cart_grouped = cart_grouped.reset_index()[['pq','ppind','pfind','rpind','rfind','xc_d','yc_d','x_d','y_d']].sort_values(by=['ppind','pfind','rpind','rfind','pq'])\n",
    "print(cart_grouped.columns)\n",
    "cond = [(cart_grouped['xc_d'] <= 0.2) & (cart_grouped['yc_d'] <= 0.2) & (cart_grouped['x_d'] <= 0.2) & (cart_grouped['y_d'] <= 0.2)]\n",
    "choice = [1]\n",
    "cart_grouped['similar'] = np.select(cond, choice)\n",
    "cart_grouped.head()"
   ]
  },
  {
   "cell_type": "code",
   "execution_count": null,
   "metadata": {},
   "outputs": [],
   "source": []
  },
  {
   "cell_type": "code",
   "execution_count": null,
   "metadata": {},
   "outputs": [],
   "source": []
  }
 ],
 "metadata": {
  "kernelspec": {
   "display_name": "base",
   "language": "python",
   "name": "python3"
  },
  "language_info": {
   "codemirror_mode": {
    "name": "ipython",
    "version": 3
   },
   "file_extension": ".py",
   "mimetype": "text/x-python",
   "name": "python",
   "nbconvert_exporter": "python",
   "pygments_lexer": "ipython3",
   "version": "3.12.2"
  }
 },
 "nbformat": 4,
 "nbformat_minor": 2
}
